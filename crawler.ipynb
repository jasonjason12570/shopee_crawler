{
 "cells": [
  {
   "cell_type": "code",
   "execution_count": 11,
   "id": "813d8a1e-1f6f-4465-a2f0-3291e7292786",
   "metadata": {},
   "outputs": [],
   "source": [
    "from selenium import webdriver\n",
    "from bs4 import BeautifulSoup as soup\n",
    "import time\n",
    "from selenium.webdriver.chrome.options import Options\n",
    "from selenium import webdriver\n",
    "from selenium.webdriver.common.keys import Keys\n",
    "from selenium.webdriver.common.by import By\n",
    "from selenium.common.exceptions import NoSuchElementException   \n",
    "\n",
    "import time\n",
    "# -*- coding: utf-8 -*-\n",
    "from time import sleep\n",
    "from tqdm import tqdm, trange\n",
    "import sqlite3"
   ]
  },
  {
   "cell_type": "code",
   "execution_count": 12,
   "id": "a4424e9e-55ff-480f-9828-399781e122dd",
   "metadata": {},
   "outputs": [],
   "source": [
    "#確認DB連線狀況\n",
    "#若是未創建則創建一個\n",
    "def db_connect():\n",
    "    try:\n",
    "        db = sqlite3.connect('data.db')\n",
    "        cursor = db.cursor()\n",
    "        print('Connect ok')\n",
    "    except:\n",
    "        Table_create()\n",
    "        print('DB create ok')\n",
    "        db = sqlite3.connect('data.db')\n",
    "        cursor = db.cursor()\n",
    "        print('Connect ok')"
   ]
  },
  {
   "cell_type": "code",
   "execution_count": 13,
   "id": "67008e9f-b37d-4b56-ba58-fa91cf6226f3",
   "metadata": {},
   "outputs": [],
   "source": [
    "# Create Table\n",
    "def Table_create():\n",
    "    cursor.execute(\n",
    "    '''CREATE TABLE SHOPEE\n",
    "    (ID INTEGER PRIMARY KEY AUTOINCREMENT,\n",
    "    NAME TEXT NOT NULL,\n",
    "    LINK TEXT NOT NULL,\n",
    "    PRICE INT NOT NULL,\n",
    "    DATE DATETIME NOT NULL);''')\n",
    "\n",
    "    print('Table created.')\n",
    "    db.commit()"
   ]
  },
  {
   "cell_type": "code",
   "execution_count": 14,
   "id": "abc04016-cf57-42de-b8e2-b6e60ed6390e",
   "metadata": {},
   "outputs": [],
   "source": [
    "#取得所有Tables\n",
    "def sql_fetch(con):\n",
    "    cursorObj = con.cursor()\n",
    "    cursorObj.execute('SELECT name from sqlite_master where type= \"table\"')\n",
    "    print(cursorObj.fetchall())"
   ]
  },
  {
   "cell_type": "raw",
   "id": "dea95545-12d7-45be-afbc-1ad7baecad36",
   "metadata": {},
   "source": []
  },
  {
   "cell_type": "code",
   "execution_count": 15,
   "id": "7ae9d94b-2216-467e-8cf3-9a28d3725da1",
   "metadata": {},
   "outputs": [],
   "source": [
    "#CRUD"
   ]
  },
  {
   "cell_type": "code",
   "execution_count": 16,
   "id": "da28cd34-9c36-4044-ad35-0efbc1cff4f5",
   "metadata": {},
   "outputs": [],
   "source": [
    "# Create\n",
    "def db_insert(SQL):\n",
    "    # Create table\n",
    "    cursor.execute(SQL)\n",
    "    print('Table insert '+SQL)\n",
    "    db.commit()"
   ]
  },
  {
   "cell_type": "code",
   "execution_count": 17,
   "id": "041c074d-7062-4a9a-a10d-ca44dce3ae53",
   "metadata": {},
   "outputs": [],
   "source": [
    "# Read\n",
    "def db_select(SQL):\n",
    "    # Select table\n",
    "    cursor.execute(SQL)\n",
    "    print('Table select '+SQL)\n",
    "    db.commit()"
   ]
  },
  {
   "cell_type": "code",
   "execution_count": 18,
   "id": "7692f8c2-7c29-4572-bec9-aec7317fa51f",
   "metadata": {},
   "outputs": [],
   "source": [
    "# Update\n",
    "def db_update(SQL):\n",
    "    # Update table\n",
    "    cursor.execute(SQL)\n",
    "    print('Table update '+SQL)\n",
    "    db.commit()"
   ]
  },
  {
   "cell_type": "code",
   "execution_count": 19,
   "id": "113bf63c-3fc8-4691-8a2d-ca9a97bdc3ca",
   "metadata": {},
   "outputs": [],
   "source": [
    "# Delete\n",
    "def db_delete(dic):\n",
    "    # Update table\n",
    "    \n",
    "    cursor.execute(SQL)\n",
    "    print('Table update '+SQL)\n",
    "    db.commit()"
   ]
  },
  {
   "cell_type": "raw",
   "id": "d909dc4e-f33f-46fc-be4a-321a6d7ccaad",
   "metadata": {},
   "source": []
  },
  {
   "cell_type": "code",
   "execution_count": 20,
   "id": "50982848-2da3-47a0-874c-3ac26a67b8f0",
   "metadata": {},
   "outputs": [
    {
     "name": "stdout",
     "output_type": "stream",
     "text": [
      "[('HUMAN',), ('shopee_history',), ('sqlite_sequence',), ('SHOPEE',)]\n"
     ]
    }
   ],
   "source": [
    "sql_fetch(db)"
   ]
  },
  {
   "cell_type": "code",
   "execution_count": 392,
   "id": "6c765942-936d-4ec6-9bbf-bd747d4422de",
   "metadata": {},
   "outputs": [],
   "source": [
    "results = cursor.execute('''SELECT * FROM SHOPEE''')\n",
    "for item in results:\n",
    "    print(item)"
   ]
  },
  {
   "cell_type": "code",
   "execution_count": 393,
   "id": "9b52f21a-c1f4-463a-9098-f94272a07622",
   "metadata": {},
   "outputs": [
    {
     "name": "stdout",
     "output_type": "stream",
     "text": [
      "Insert ok\n"
     ]
    }
   ],
   "source": [
    "# Insert\n",
    "cursor.execute('''INSERT INTO HUMAN (ID,NAME,AGE) VALUES (1, 'Clay', 25)''')\n",
    "cursor.execute('''INSERT INTO HUMAN (ID,NAME,AGE) VALUES (2, 'Wendy', 16)''')\n",
    "\n",
    "db.commit()\n",
    "print('Insert ok')"
   ]
  },
  {
   "cell_type": "code",
   "execution_count": 394,
   "id": "45909fa7-db13-4692-bb05-3415a975b0f1",
   "metadata": {},
   "outputs": [
    {
     "name": "stdout",
     "output_type": "stream",
     "text": [
      "(1, 'Clay', 25)\n",
      "(2, 'Wendy', 16)\n"
     ]
    }
   ],
   "source": [
    "# Select\n",
    "results = cursor.execute('''SELECT * FROM HUMAN''')\n",
    "for item in results:\n",
    "    print(item)"
   ]
  },
  {
   "cell_type": "code",
   "execution_count": null,
   "id": "51b7b8f7-5468-4400-b990-18abd8711b9b",
   "metadata": {},
   "outputs": [],
   "source": []
  }
 ],
 "metadata": {
  "kernelspec": {
   "display_name": "Python 3",
   "language": "python",
   "name": "python3"
  },
  "language_info": {
   "codemirror_mode": {
    "name": "ipython",
    "version": 3
   },
   "file_extension": ".py",
   "mimetype": "text/x-python",
   "name": "python",
   "nbconvert_exporter": "python",
   "pygments_lexer": "ipython3",
   "version": "3.8.10"
  }
 },
 "nbformat": 4,
 "nbformat_minor": 5
}
