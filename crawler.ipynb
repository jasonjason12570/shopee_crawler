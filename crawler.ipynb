{
 "cells": [
  {
   "cell_type": "code",
   "execution_count": 6,
   "id": "813d8a1e-1f6f-4465-a2f0-3291e7292786",
   "metadata": {},
   "outputs": [],
   "source": [
    "from selenium import webdriver\n",
    "from bs4 import BeautifulSoup as soup\n",
    "import time\n",
    "from selenium.webdriver.chrome.options import Options\n",
    "from selenium import webdriver\n",
    "from selenium.webdriver.common.keys import Keys\n",
    "from selenium.webdriver.common.by import By\n",
    "from selenium.common.exceptions import NoSuchElementException   \n",
    "\n",
    "import time\n",
    "# -*- coding: utf-8 -*-\n",
    "from time import sleep\n",
    "from tqdm import tqdm, trange\n",
    "import sqlite3"
   ]
  },
  {
   "cell_type": "code",
   "execution_count": 7,
   "id": "67008e9f-b37d-4b56-ba58-fa91cf6226f3",
   "metadata": {},
   "outputs": [],
   "source": [
    "# Create Table\n",
    "def Table_create(con,db):\n",
    "    Table_create_sql_Shopee_History = ('''\n",
    "    CREATE TABLE Shopee_History\n",
    "    (ID INTEGER PRIMARY KEY AUTOINCREMENT,\n",
    "    NAME TEXT NOT NULL,\n",
    "    LINK TEXT NOT NULL,\n",
    "    PRICE INT NOT NULL,\n",
    "    DATETIME DATETIME NOT NULL,\n",
    "    TIMESTAMP TEXT NOT NULL\n",
    "    );\n",
    "    ''')\n",
    "    Table_create_sql_Shopee_Notify = ('''\n",
    "    CREATE TABLE Shopee_Notify\n",
    "    (ID INTEGER PRIMARY KEY AUTOINCREMENT,\n",
    "    NAME TEXT NOT NULL,\n",
    "    LINK TEXT NOT NULL,\n",
    "    PRICE INT NOT NULL,\n",
    "    DATETIME DATETIME NOT NULL,\n",
    "    TIMESTAMP TEXT NOT NULL\n",
    "    );\n",
    "    ''')\n",
    "    \n",
    "    con.execute(Table_create_sql_Shopee_History)\n",
    "    print(Table_create_sql_Shopee_History)\n",
    "    con.execute(Table_create_sql_Shopee_Notify)\n",
    "    print(Table_create_sql_Shopee_Notify)\n",
    "    print('Table created.')\n",
    "    db.commit()"
   ]
  },
  {
   "cell_type": "code",
   "execution_count": 8,
   "id": "a4424e9e-55ff-480f-9828-399781e122dd",
   "metadata": {},
   "outputs": [],
   "source": [
    "#確認DB連線狀況\n",
    "#若是未創建則創建一個\n",
    "def db_connect():\n",
    "    try:\n",
    "        db = sqlite3.connect('data.db')\n",
    "        con = db.cursor()\n",
    "        print('Connect ok')\n",
    "        Table_create(con,db)\n",
    "        print('DB create ok')\n",
    "        sql_fetch(con)\n",
    "    except:\n",
    "        sql_fetch(con)"
   ]
  },
  {
   "cell_type": "code",
   "execution_count": 9,
   "id": "abc04016-cf57-42de-b8e2-b6e60ed6390e",
   "metadata": {},
   "outputs": [],
   "source": [
    "#取得所有Tables\n",
    "def sql_fetch(con):\n",
    "    con.execute('SELECT name from sqlite_master where type= \"table\"')\n",
    "    print(con.fetchall())"
   ]
  },
  {
   "cell_type": "code",
   "execution_count": 10,
   "id": "6c487021-9976-4020-a26b-c7860c89237b",
   "metadata": {},
   "outputs": [
    {
     "name": "stdout",
     "output_type": "stream",
     "text": [
      "Connect ok\n",
      "\n",
      "    CREATE TABLE Shopee_History\n",
      "    (ID INTEGER PRIMARY KEY AUTOINCREMENT,\n",
      "    NAME TEXT NOT NULL,\n",
      "    LINK TEXT NOT NULL,\n",
      "    PRICE INT NOT NULL,\n",
      "    DATETIME DATETIME NOT NULL,\n",
      "    TIMESTAMP TEXT NOT NULL\n",
      "    );\n",
      "    \n",
      "\n",
      "    CREATE TABLE Shopee_Notify\n",
      "    (ID INTEGER PRIMARY KEY AUTOINCREMENT,\n",
      "    NAME TEXT NOT NULL,\n",
      "    LINK TEXT NOT NULL,\n",
      "    PRICE INT NOT NULL,\n",
      "    DATETIME DATETIME NOT NULL,\n",
      "    TIMESTAMP TEXT NOT NULL\n",
      "    );\n",
      "    \n",
      "Table created.\n",
      "DB create ok\n",
      "[('Shopee_History',), ('sqlite_sequence',), ('Shopee_Notify',)]\n"
     ]
    }
   ],
   "source": [
    "db_connect()"
   ]
  },
  {
   "cell_type": "code",
   "execution_count": 11,
   "id": "51bcc58b-76ec-4de5-98da-b63ed000b28d",
   "metadata": {},
   "outputs": [
    {
     "name": "stdout",
     "output_type": "stream",
     "text": [
      "Connect ok\n",
      "[('Shopee_History',), ('sqlite_sequence',), ('Shopee_Notify',)]\n"
     ]
    }
   ],
   "source": [
    "db_connect()"
   ]
  },
  {
   "cell_type": "code",
   "execution_count": 15,
   "id": "7ae9d94b-2216-467e-8cf3-9a28d3725da1",
   "metadata": {},
   "outputs": [],
   "source": [
    "#CRUD"
   ]
  },
  {
   "cell_type": "code",
   "execution_count": 35,
   "id": "da28cd34-9c36-4044-ad35-0efbc1cff4f5",
   "metadata": {},
   "outputs": [],
   "source": [
    "# Create\n",
    "def db_insert(con,TABLE,ID,NAME,LINK,PRICE,DATETIME,TIMESTAMP):\n",
    "    # Insert Data\n",
    "    db_insert_sql = '''\n",
    "    INSERT INTO %s\n",
    "    (NAME,LINK,PRICE,DATETIME,TIMESTAMP) \n",
    "    VALUES \n",
    "    (%s, %s, %s, %s, %s);\n",
    "    '''\n",
    "    db_insert_sql = db_insert_sql% (TABLE,NAME,LINK,PRICE,DATETIME,TIMESTAMP)\n",
    "    print(db_insert_sql)\n",
    "    \n",
    "    #con.execute(db_insert_sql,(TABLE,ID,NAME,LINK,PRICE,DATETIME,TIMESTAMP))\n",
    "    #db.commit()"
   ]
  },
  {
   "cell_type": "code",
   "execution_count": 36,
   "id": "5330d40c-c330-4424-bf07-84e2eb9b864b",
   "metadata": {},
   "outputs": [
    {
     "name": "stdout",
     "output_type": "stream",
     "text": [
      "\n",
      "    INSERT INTO TABLE\n",
      "    (NAME,LINK,PRICE,DATETIME,TIMESTAMP) \n",
      "    VALUES \n",
      "    (NAME, LINK, PRICE, DATETIME, TIMESTAMP);\n",
      "    \n"
     ]
    }
   ],
   "source": [
    "db_insert(\"con\",\"TABLE\",\"ID\",\"NAME\",\"LINK\",\"PRICE\",\"DATETIME\",\"TIMESTAMP\")"
   ]
  },
  {
   "cell_type": "code",
   "execution_count": 37,
   "id": "041c074d-7062-4a9a-a10d-ca44dce3ae53",
   "metadata": {},
   "outputs": [],
   "source": [
    "# Read\n",
    "def db_select(con,TABLE):\n",
    "    # Select table\n",
    "    db_select_sql = '''\n",
    "    SELECT * FROME %s \n",
    "    '''\n",
    "    db_select_sql = db_select_sql% (TABLE)\n",
    "    print(db_select_sql)\n",
    "    \n",
    "    #con.execute(db_insert_sql,(TABLE,ID,NAME,LINK,PRICE,DATETIME,TIMESTAMP))\n",
    "    #db.commit()"
   ]
  },
  {
   "cell_type": "code",
   "execution_count": 39,
   "id": "0399511c-8ec3-44ea-bad1-99bfebad5107",
   "metadata": {},
   "outputs": [
    {
     "name": "stdout",
     "output_type": "stream",
     "text": [
      "\n",
      "    SELECT * FROME TABLE \n",
      "    \n"
     ]
    }
   ],
   "source": [
    "db_select(\"con\",\"TABLE\")"
   ]
  },
  {
   "cell_type": "code",
   "execution_count": 41,
   "id": "7692f8c2-7c29-4572-bec9-aec7317fa51f",
   "metadata": {},
   "outputs": [],
   "source": [
    "# Update\n",
    "def db_update(con,TABLE,PRICE,LINK):\n",
    "    # Update table\n",
    "    db_update_sql = '''\n",
    "    UPDATE %s \n",
    "    SET \n",
    "    PRICE = %s\n",
    "    WHERE LINK = %s;\n",
    "    '''\n",
    "    db_update_sql = db_update_sql% (TABLE,PRICE,LINK)\n",
    "    print(db_update_sql)\n",
    "    \n",
    "    #con.execute(db_insert_sql,(TABLE,ID,NAME,LINK,PRICE,DATETIME,TIMESTAMP))\n",
    "    #db.commit()"
   ]
  },
  {
   "cell_type": "code",
   "execution_count": 42,
   "id": "836b8c8a-4f08-46a6-a1d1-9d1575c1cae0",
   "metadata": {},
   "outputs": [
    {
     "name": "stdout",
     "output_type": "stream",
     "text": [
      "\n",
      "    UPDATE TABLE \n",
      "    SET \n",
      "    PRICE = PRICE\n",
      "    WHERE LINK = LINK;\n",
      "    \n"
     ]
    }
   ],
   "source": [
    "db_update(\"con\",\"TABLE\",\"PRICE\",\"LINK\")"
   ]
  },
  {
   "cell_type": "code",
   "execution_count": 43,
   "id": "113bf63c-3fc8-4691-8a2d-ca9a97bdc3ca",
   "metadata": {},
   "outputs": [],
   "source": [
    "# Delete\n",
    "def db_delete(con,TABLE):\n",
    "    # Delete table\n",
    "    db_delete_sql = '''\n",
    "    DELETE * FROM %s;\n",
    "    '''\n",
    "    db_delete_sql = db_delete_sql% (TABLE)\n",
    "    print(db_delete_sql)\n",
    "    \n",
    "    #con.execute(db_insert_sql,(TABLE,ID,NAME,LINK,PRICE,DATETIME,TIMESTAMP))\n",
    "    #db.commit()"
   ]
  },
  {
   "cell_type": "code",
   "execution_count": 44,
   "id": "5bb50a43-0689-443b-aa63-c3706ee9b8c9",
   "metadata": {},
   "outputs": [
    {
     "name": "stdout",
     "output_type": "stream",
     "text": [
      "\n",
      "    DELETE * FROM TABLE;\n",
      "    \n"
     ]
    }
   ],
   "source": [
    "db_delete(\"con\",\"TABLE\")"
   ]
  },
  {
   "cell_type": "code",
   "execution_count": null,
   "id": "51b7b8f7-5468-4400-b990-18abd8711b9b",
   "metadata": {},
   "outputs": [],
   "source": []
  },
  {
   "cell_type": "code",
   "execution_count": 392,
   "id": "6c765942-936d-4ec6-9bbf-bd747d4422de",
   "metadata": {},
   "outputs": [],
   "source": [
    "results = cursor.execute('''SELECT * FROM SHOPEE''')\n",
    "for item in results:\n",
    "    print(item)"
   ]
  }
 ],
 "metadata": {
  "kernelspec": {
   "display_name": "Python 3",
   "language": "python",
   "name": "python3"
  },
  "language_info": {
   "codemirror_mode": {
    "name": "ipython",
    "version": 3
   },
   "file_extension": ".py",
   "mimetype": "text/x-python",
   "name": "python",
   "nbconvert_exporter": "python",
   "pygments_lexer": "ipython3",
   "version": "3.8.10"
  }
 },
 "nbformat": 4,
 "nbformat_minor": 5
}
