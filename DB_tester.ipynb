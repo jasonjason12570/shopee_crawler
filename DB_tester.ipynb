{
 "cells": [
  {
   "cell_type": "code",
   "execution_count": 71,
   "id": "813d8a1e-1f6f-4465-a2f0-3291e7292786",
   "metadata": {},
   "outputs": [],
   "source": [
    "from selenium import webdriver\n",
    "from bs4 import BeautifulSoup as soup\n",
    "import time\n",
    "from selenium.webdriver.chrome.options import Options\n",
    "from selenium import webdriver\n",
    "from selenium.webdriver.common.keys import Keys\n",
    "from selenium.webdriver.common.by import By\n",
    "from selenium.common.exceptions import NoSuchElementException   \n",
    "\n",
    "import time\n",
    "# -*- coding: utf-8 -*-\n",
    "from time import sleep\n",
    "from tqdm import tqdm, trange\n",
    "import sqlite3"
   ]
  },
  {
   "cell_type": "code",
   "execution_count": 76,
   "id": "67008e9f-b37d-4b56-ba58-fa91cf6226f3",
   "metadata": {},
   "outputs": [],
   "source": [
    "# Create Table\n",
    "def Table_create_History(con,db):\n",
    "    Table_create_sql_Shopee_History = ('''\n",
    "    CREATE TABLE Shopee_History\n",
    "    (ID INTEGER PRIMARY KEY AUTOINCREMENT,\n",
    "    NAME TEXT NOT NULL,\n",
    "    LINK TEXT NOT NULL,\n",
    "    PRICE INT NOT NULL,\n",
    "    DATETIME DATETIME NOT NULL,\n",
    "    TIMESTAMP TEXT NOT NULL\n",
    "    );\n",
    "    ''')\n",
    "    \n",
    "    con.execute(Table_create_sql_Shopee_History)\n",
    "    print(Table_create_sql_Shopee_History)\n",
    "    print('Shopee_History Table created.')\n",
    "    db.commit()"
   ]
  },
  {
   "cell_type": "code",
   "execution_count": 77,
   "id": "98b8f07f-aa1a-4cbe-a3b8-36c507a5608a",
   "metadata": {},
   "outputs": [],
   "source": [
    "def Table_create_Notify(con,db):\n",
    "\n",
    "    Table_create_sql_Shopee_Notify = ('''\n",
    "    CREATE TABLE Shopee_Notify\n",
    "    (ID INTEGER PRIMARY KEY AUTOINCREMENT,\n",
    "    NAME TEXT NOT NULL,\n",
    "    LINK TEXT NOT NULL,\n",
    "    PRICE INT NOT NULL,\n",
    "    DATETIME DATETIME NOT NULL,\n",
    "    TIMESTAMP TEXT NOT NULL\n",
    "    );\n",
    "    ''')\n",
    "\n",
    "    con.execute(Table_create_sql_Shopee_Notify)\n",
    "    print(Table_create_sql_Shopee_Notify)\n",
    "    print('Notify Table created.')\n",
    "    db.commit()"
   ]
  },
  {
   "cell_type": "code",
   "execution_count": 78,
   "id": "abc04016-cf57-42de-b8e2-b6e60ed6390e",
   "metadata": {},
   "outputs": [],
   "source": [
    "#取得所有Tables\n",
    "def sql_fetch(con):\n",
    "    con.execute('SELECT name from sqlite_master where type= \"table\"')\n",
    "    print(con.fetchall())"
   ]
  },
  {
   "cell_type": "code",
   "execution_count": 81,
   "id": "a4424e9e-55ff-480f-9828-399781e122dd",
   "metadata": {},
   "outputs": [
    {
     "name": "stdout",
     "output_type": "stream",
     "text": [
      "Connect ok\n",
      "[('Shopee_History',), ('sqlite_sequence',), ('Shopee_Notify',)]\n"
     ]
    }
   ],
   "source": [
    "#確認DB連線狀況\n",
    "#若是未創建則創建一個\n",
    "try:\n",
    "    db = sqlite3.connect('data.db')\n",
    "    con = db.cursor()\n",
    "    print('Connect ok')\n",
    "    Table_create_History(con,db)\n",
    "    Table_create_Notify(con,db)\n",
    "    sql_fetch(con)\n",
    "except:\n",
    "    sql_fetch(con)"
   ]
  },
  {
   "cell_type": "code",
   "execution_count": 8,
   "id": "7ae9d94b-2216-467e-8cf3-9a28d3725da1",
   "metadata": {},
   "outputs": [],
   "source": [
    "#CRUD"
   ]
  },
  {
   "cell_type": "code",
   "execution_count": 96,
   "id": "da28cd34-9c36-4044-ad35-0efbc1cff4f5",
   "metadata": {},
   "outputs": [],
   "source": [
    "# Create\n",
    "def db_insert(con,TABLE,ID,NAME,LINK,PRICE,DATETIME,TIMESTAMP):\n",
    "    # Insert Data\n",
    "    db_insert_sql = '''\n",
    "    INSERT INTO %s\n",
    "    (NAME,LINK,PRICE,DATETIME,TIMESTAMP) \n",
    "    VALUES \n",
    "    ('%s', '%s', '%s', '%s', '%s')\n",
    "    '''\n",
    "    db_insert_sql = db_insert_sql% (TABLE,NAME,LINK,PRICE,DATETIME,TIMESTAMP)\n",
    "    print(db_insert_sql)\n",
    "    \n",
    "    con.execute(db_insert_sql)\n",
    "    db.commit()"
   ]
  },
  {
   "cell_type": "code",
   "execution_count": 97,
   "id": "5330d40c-c330-4424-bf07-84e2eb9b864b",
   "metadata": {},
   "outputs": [
    {
     "name": "stdout",
     "output_type": "stream",
     "text": [
      "\n",
      "    INSERT INTO Shopee_History\n",
      "    (NAME,LINK,PRICE,DATETIME,TIMESTAMP) \n",
      "    VALUES \n",
      "    ('測試', 'http://134132edq2e1', '13', '20201212', '1234567890')\n",
      "    \n"
     ]
    }
   ],
   "source": [
    "db_insert(con,\"Shopee_History\",\"123\",\"測試\",\"http://134132edq2e1\",\"13\",\"20201212\",\"1234567890\")"
   ]
  },
  {
   "cell_type": "code",
   "execution_count": 125,
   "id": "041c074d-7062-4a9a-a10d-ca44dce3ae53",
   "metadata": {},
   "outputs": [],
   "source": [
    "# Read\n",
    "def db_select(TABLE,LINK):\n",
    "    # Select table\n",
    "    db_select_sql = '''\n",
    "    SELECT * FROM %s WHERE LINK ='%s'\n",
    "    '''\n",
    "    db_select_sql = db_select_sql% (TABLE,LINK)\n",
    "    print(db_select_sql)\n",
    "    \n",
    "    con.execute(db_select_sql)\n",
    "    data = con.fetchall()\n",
    "    db.commit()\n",
    "    if(data==[]):\n",
    "        return True\n",
    "    else:\n",
    "        print(data)\n",
    "        return False"
   ]
  },
  {
   "cell_type": "code",
   "execution_count": 127,
   "id": "0399511c-8ec3-44ea-bad1-99bfebad5107",
   "metadata": {},
   "outputs": [
    {
     "name": "stdout",
     "output_type": "stream",
     "text": [
      "\n",
      "    SELECT * FROM Shopee_History WHERE LINK ='http://134132edq2e1'\n",
      "    \n",
      "[(1, '測試', 'http://134132edq2e1', 133, 20201212, '1234567890')]\n",
      "False\n"
     ]
    }
   ],
   "source": [
    "data = db_select(\"Shopee_History\",\"http://134132edq2e1\")\n",
    "print(data)"
   ]
  },
  {
   "cell_type": "code",
   "execution_count": 124,
   "id": "7692f8c2-7c29-4572-bec9-aec7317fa51f",
   "metadata": {},
   "outputs": [],
   "source": [
    "# Update\n",
    "def db_update(TABLE,PRICE,LINK):\n",
    "    # Update table\n",
    "    db_update_sql = '''\n",
    "    UPDATE %s \n",
    "    SET \n",
    "    PRICE = '%s'\n",
    "    WHERE LINK = '%s';\n",
    "    '''\n",
    "    db_update_sql = db_update_sql% (TABLE,PRICE,LINK)\n",
    "    print(db_update_sql)\n",
    "    \n",
    "    con.execute(db_update_sql)\n",
    "    db.commit()\n",
    "    \n",
    "    db_select(TABLE,LINK)"
   ]
  },
  {
   "cell_type": "code",
   "execution_count": 107,
   "id": "836b8c8a-4f08-46a6-a1d1-9d1575c1cae0",
   "metadata": {},
   "outputs": [
    {
     "name": "stdout",
     "output_type": "stream",
     "text": [
      "\n",
      "    UPDATE Shopee_History \n",
      "    SET \n",
      "    PRICE = '133'\n",
      "    WHERE LINK = 'http://134132edq2e1';\n",
      "    \n",
      "\n",
      "    SELECT * FROM Shopee_History WHERE LINK ='http://134132edq2e1'\n",
      "    \n",
      "[(1, '測試', 'http://134132edq2e1', 133, 20201212, '1234567890')]\n"
     ]
    }
   ],
   "source": [
    "db_update(\"Shopee_History\",\"133\",\"http://134132edq2e1\")"
   ]
  },
  {
   "cell_type": "code",
   "execution_count": 108,
   "id": "113bf63c-3fc8-4691-8a2d-ca9a97bdc3ca",
   "metadata": {},
   "outputs": [],
   "source": [
    "# Delete\n",
    "def db_delete(TABLE):\n",
    "    # Delete table\n",
    "    db_delete_sql = '''\n",
    "    DROP TABLE IF EXISTS %s;\n",
    "    '''\n",
    "    db_delete_sql = db_delete_sql% (TABLE)\n",
    "    print(db_delete_sql)\n",
    "    \n",
    "    con.execute(db_delete_sql)\n",
    "    db.commit()"
   ]
  },
  {
   "cell_type": "code",
   "execution_count": 109,
   "id": "5bb50a43-0689-443b-aa63-c3706ee9b8c9",
   "metadata": {},
   "outputs": [
    {
     "name": "stdout",
     "output_type": "stream",
     "text": [
      "\n",
      "    DROP TABLE IF EXISTS Shopee_Notify;\n",
      "    \n"
     ]
    }
   ],
   "source": [
    "db_delete(\"Shopee_Notify\")"
   ]
  },
  {
   "cell_type": "markdown",
   "id": "06676d4a-7caa-406e-bd35-b691d34b0891",
   "metadata": {},
   "source": [
    "### 流程\n",
    "1. 爬取目前更新之網址，將其對照資料庫已有之LINK是否相符\n",
    "2. 清除舊有Shopee_Notify\n",
    "3. 若有未存在之LINK則新增(Shopee_History & Shopee_Notify)，有的話則比對金額並且更新(Shopee_History)\n",
    "4. 爬取Shopee_Notify之LINK，做進一步的爬蟲，爬取確切時間點\n",
    "5. 印出時間點為24小時內的商品與其詳情"
   ]
  },
  {
   "cell_type": "code",
   "execution_count": null,
   "id": "57302f2e-1485-4b7e-8f25-ed366a2b191d",
   "metadata": {},
   "outputs": [],
   "source": [
    "#1. 確認DB連線狀況\n",
    "#2. 爬取目前更新之網址\n",
    "#3. 對照資料庫已有之LINK是否相符，將新資料儲存為Dict\n",
    "#4. 對新資料爬取確切時間點，印出時間點為24小時內的商品與其詳情\n",
    "#5. 同步新增於Shopee_History & Shopee_Notify"
   ]
  },
  {
   "cell_type": "code",
   "execution_count": 110,
   "id": "6c765942-936d-4ec6-9bbf-bd747d4422de",
   "metadata": {},
   "outputs": [
    {
     "name": "stdout",
     "output_type": "stream",
     "text": [
      "(1, '測試', 'http://134132edq2e1', 133, 20201212, '1234567890')\n"
     ]
    }
   ],
   "source": [
    "results = con.execute('''SELECT * FROM Shopee_History ''')\n",
    "for item in results:\n",
    "    print(item)"
   ]
  },
  {
   "cell_type": "code",
   "execution_count": null,
   "id": "5995768d-f1e3-4754-9f7c-1350aaf2cf27",
   "metadata": {},
   "outputs": [],
   "source": []
  }
 ],
 "metadata": {
  "kernelspec": {
   "display_name": "Python 3 (ipykernel)",
   "language": "python",
   "name": "python3"
  },
  "language_info": {
   "codemirror_mode": {
    "name": "ipython",
    "version": 3
   },
   "file_extension": ".py",
   "mimetype": "text/x-python",
   "name": "python",
   "nbconvert_exporter": "python",
   "pygments_lexer": "ipython3",
   "version": "3.9.7"
  }
 },
 "nbformat": 4,
 "nbformat_minor": 5
}
