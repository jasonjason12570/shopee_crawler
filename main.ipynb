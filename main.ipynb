{
 "cells": [
  {
   "cell_type": "code",
   "execution_count": 22,
   "id": "92816398-e6b1-4ac0-91a8-e1772ee6f4bf",
   "metadata": {},
   "outputs": [],
   "source": [
    "from selenium import webdriver\n",
    "from bs4 import BeautifulSoup as soup\n",
    "import time\n",
    "from selenium.webdriver.chrome.options import Options\n",
    "from selenium import webdriver\n",
    "from selenium.webdriver.common.keys import Keys\n",
    "from selenium.webdriver.common.by import By\n",
    "from selenium.common.exceptions import NoSuchElementException   \n",
    "chrome_options = Options()\n",
    "chrome_options.add_argument('--user-agent=Mozilla/5.0 (iPhone; CPU iPhone OS 10_3 like Mac OS X) AppleWebKit/602.1.50 (KHTML, like Gecko) CriOS/56.0.2924.75 Mobile/14E5239e Safari/602.1')\n",
    "driver = webdriver.Chrome('../chromedriver',options=chrome_options)\n",
    "driver.get('https://shopee.tw/%E9%9B%BB%E8%85%A6%E9%9B%B6%E7%B5%84%E4%BB%B6-cat.11041390.11041525?filters=9&page=0&sortBy=ctime')"
   ]
  },
  {
   "cell_type": "code",
   "execution_count": null,
   "id": "5d11d20c-df01-406d-be20-a2f98da34f4c",
   "metadata": {},
   "outputs": [
    {
     "name": "stdout",
     "output_type": "stream",
     "text": [
      "//*[@id='app']/div/div[1]/div[2]/div/div/div[2]/div[1]\n",
      "12天\n",
      "//*[@id='app']/div/div[1]/div[2]/div/div/div[2]/div[2]\n",
      "6天\n",
      "//*[@id='app']/div/div[1]/div[2]/div/div/div[2]/div[3]\n",
      "14分鐘\n",
      "//*[@id='app']/div/div[1]/div[2]/div/div/div[2]/div[4]\n",
      "14分鐘\n",
      "//*[@id='app']/div/div[1]/div[2]/div/div/div[2]/div[5]\n"
     ]
    }
   ],
   "source": [
    "i = 1\n",
    "while(1):\n",
    "    driver.switch_to.parent_frame()\n",
    "    driver.switch_to.default_content()\n",
    "    driver.switch_to.default_content()\n",
    "    sp = soup(driver.page_source,'html.parser')\n",
    "    #print(sp)\n",
    "    s = \"//*[@id='app']/div/div[1]/div[2]/div/div/div[2]/div[\"+str(i)+\"]\"\n",
    "    test = str(s)\n",
    "    print(test)\n",
    "    try:\n",
    "        driver.find_element_by_xpath(\"//*[@id='app']/div/div[1]/div[2]/div/div/div[2]/div[%s]\"%(i)).click()\n",
    "    except NoSuchElementException:\n",
    "        time.sleep(0.8)\n",
    "        driver.find_element_by_xpath(\"//*[@id='app']/div/div[1]/div[2]/div/div/div[2]/div[%s]\"%(i)).click()\n",
    "        print(\"wait\")\n",
    "    \n",
    "    time.sleep(1)\n",
    "    #//*[@id=\"app\"]/div/div[1]/div/div[2]/div[3]/div[7]/div/div[1]/div[2]/span\n",
    "    try:\n",
    "        date = driver.find_element_by_xpath('//*[@id=\"app\"]/div/div[1]/div/div[2]/div[3]/div[7]/div/div[1]/div[2]/span').text\n",
    "    except NoSuchElementException:\n",
    "        date = driver.find_element_by_xpath('//*[@id=\"app\"]/div/div[1]/div/div[2]/div[3]/div[8]/div/div[1]/div[2]/span').text\n",
    "        print(\"8\")\n",
    "        \n",
    "    print(date)\n",
    "    driver.get('https://shopee.tw/%E9%9B%BB%E8%85%A6%E9%9B%B6%E7%B5%84%E4%BB%B6-cat.11041390.11041525?filters=9&page=0&sortBy=ctime')\n",
    "    \n",
    "   \n",
    "    driver.switch_to.default_content()\n",
    "    driver.switch_to.parent_frame()\n",
    "    #driver.implicitly_wait(5)\n",
    "    time.sleep(1.5)\n",
    "    js = \"window.scrollTo(0, document.body.scrollHeight);\"\n",
    "    driver.execute_script(js)\n",
    "    #test=driver.find_element_by_xpath('//*[@id=\"app\"]/div/div[1]/div[1]/div[1]/div[2]/div/form/div/input')\n",
    "    #test.sendKeys(\"test\")\n",
    "    i+=1"
   ]
  },
  {
   "cell_type": "code",
   "execution_count": null,
   "id": "dfb5ce70-6e70-447e-9345-b085508453a0",
   "metadata": {},
   "outputs": [],
   "source": []
  },
  {
   "cell_type": "code",
   "execution_count": 26,
   "id": "20b96d71-a95f-44a5-95e1-9133db30003b",
   "metadata": {},
   "outputs": [],
   "source": [
    "driver.find_element_by_xpath(\"//*[@id='app']/div/div[1]/div[2]/div/div/div[2]/div[8]\").click()"
   ]
  },
  {
   "cell_type": "code",
   "execution_count": null,
   "id": "494e788c-f46e-4911-b457-b98d7bf8a1e3",
   "metadata": {},
   "outputs": [],
   "source": []
  }
 ],
 "metadata": {
  "kernelspec": {
   "display_name": "Python 3",
   "language": "python",
   "name": "python3"
  },
  "language_info": {
   "codemirror_mode": {
    "name": "ipython",
    "version": 3
   },
   "file_extension": ".py",
   "mimetype": "text/x-python",
   "name": "python",
   "nbconvert_exporter": "python",
   "pygments_lexer": "ipython3",
   "version": "3.8.10"
  }
 },
 "nbformat": 4,
 "nbformat_minor": 5
}
